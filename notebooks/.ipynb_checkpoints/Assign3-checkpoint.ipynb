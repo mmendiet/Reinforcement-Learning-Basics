{
 "cells": [
  {
   "cell_type": "markdown",
   "metadata": {},
   "source": [
    "$\n",
    "\\DeclareMathOperator{\\E}{\\mathbb{E}}\n",
    "\\DeclareMathOperator{\\R}{\\mathcal{R}}\n",
    "\\DeclareMathOperator{\\wv}{\\mathbf{w}}\n",
    "\\newcommand{\\bm}{\\boldsymbol}\n",
    "$\n",
    "\n",
    "# ITCS 6010: Assignment #3 (V1)\n",
    "\n",
    "<font color=\"red\">(Due: 11 pm on Dec 3rd) </font>"
   ]
  },
  {
   "attachments": {
    "image.png": {
     "image/png": "[encoded data removed]"
    }
   },
   "cell_type": "markdown",
   "metadata": {},
   "source": [
    "### 1. The value of an action, $Q^\\pi(s,a)$, depends on the expected next reward and the expected sum of the remaining rewards. Again we can think of this in terms of a small backup diagram, this one rooted at an action (state–action pair) and branching to the possible next states:\n",
    "\n",
    "![image.png](attachment:image.png)\n",
    "\n",
    "### Give the equation corresponding to this intuition and diagram for the value at the root node, $V^\\pi(s)$, in terms of the value at the expected leaf node, $Q^\\pi(s,a)$, given $s_t =s$. This expectation dpends on the policy, $\\pi$. Then give a second equation in which the expected value is written out explicitly in terms of $\\pi(a|s)$ such that no expected value notation appears in the equation."
   ]
  },
  {
   "cell_type": "markdown",
   "metadata": {},
   "source": [
    "$$V^{\\pi}(s)=\\mathbb{E}_{\\pi}[Q^{\\pi}(s, a)~|~s_t=s]$$<br>\n",
    "$$V^{\\pi}(s)=\\sum_{a} \\pi(a | s)Q^{\\pi}(s, a)$$"
   ]
  },
  {
   "cell_type": "markdown",
   "metadata": {},
   "source": [
    "### 2. The compatible function approximation theorem states that the value function approximator is compatible to the policy, i.e., $\\nabla_{\\wv} Q_{\\wv}(s,a) = \\nabla_{\\bm\\theta} \\log \\pi_{\\bm\\theta}(s,a)$, and its parameter $\\wv$ minimizes the mean-square error,  $\\E_{\\pi_{\\bm\\theta}} \\big[\\big(Q^{\\pi_\\theta}(s,a) - Q_{\\wv}(s,a) \\big)^2 \\big]$. Then the policy gradient is exact,  $ \\nabla_{\\bm\\theta} J(\\bm\\theta) = \\E_{\\pi_{\\bm\\theta}} \\big[ \\nabla_{\\bm\\theta} \\log \\pi(a | s, \\bm\\theta) Q_{\\wv} (s, a) \\big]$. Show your proof."
   ]
  },
  {
   "cell_type": "markdown",
   "metadata": {},
   "source": [
    "If we minimize parameters $\\bf{w}$ with repect to the mean squared error:\n",
    "$$m = \\E_{\\pi_{\\bm\\theta}} \\big[\\big(Q^{\\pi_\\theta}(s,a) - Q_{\\wv}(s,a) \\big)^2 \\big]$$\n",
    "Then we are moving in the direction where:\n",
    "$$\\nabla_{\\bf{w}} m=0$$\n",
    "As such, we rewrite the expectation:\n",
    "$$\\mathbb{E}_{\\pi_{\\theta}}\\left[\\left(Q^{\\pi_\\theta}(s, a)-Q_{\\bf{w}}(s, a)\\right) \\nabla_{\\bf{w}} Q_{\\bf{w}}(s, a)\\right]=0$$\n",
    "$$\\mathbb{E}_{\\pi_{\\theta}}\\left[\\left(Q^{\\pi_\\theta}(s, a)-Q_{\\bf{w}}(s, a)\\right) \\nabla_{\\theta} \\log \\pi_{\\theta}(s, a)\\right]=0$$\n",
    "$$\\mathbb{E}_{\\pi_{\\theta}}\\left[Q^{\\pi_\\theta}(s, a) \\nabla_{\\theta} \\log \\pi_{\\theta}(s, a)\\right]=\\mathbb{E}_{\\pi_{\\theta}}\\left[Q_{\\bf{w}}(s, a) \\nabla_{\\theta} \\log \\pi_{\\theta}(s, a)\\right]$$\n",
    "<br>Therefore, we can then substitute $Q^{\\pi_\\theta}(s, a)$ with $Q_{\\wv} (s, a)$ in the policy gradient:\n",
    "$$\\nabla_{\\bm\\theta} J(\\bm\\theta) = \\E_{\\pi_{\\bm\\theta}} \\big[ \\nabla_{\\bm\\theta} \\log \\pi(a | s, \\bm\\theta) Q_{\\wv} (s, a) \\big]$$"
   ]
  },
  {
   "cell_type": "markdown",
   "metadata": {},
   "source": [
    "### 3. (Programming) \n",
    "1) Implement REINFORCE with Baseline (Value function for advantage) with neural network policy approximation to solve the Maze problem. \n",
    "\n",
    "2) Now, implement AC Methods with NN approximators for both actor and critic to solve the Maze problem. How are the solutions different each other?"
   ]
  },
  {
   "cell_type": "markdown",
   "metadata": {},
   "source": [
    " "
   ]
  },
  {
   "cell_type": "markdown",
   "metadata": {},
   "source": [
    "#### Maze Problem (Practice)"
   ]
  },
  {
   "cell_type": "code",
   "execution_count": 60,
   "metadata": {},
   "outputs": [],
   "source": [
    "import collections\n",
    "import numpy as np\n",
    "import matplotlib\n",
    "from matplotlib import pyplot as plt\n",
    "import sys\n",
    "from collections import defaultdict\n",
    "import random\n",
    "import math\n",
    "import torch\n",
    "from statistics import mean\n",
    "import torch.nn.functional as F"
   ]
  },
  {
   "cell_type": "markdown",
   "metadata": {},
   "source": [
    "### Sample Grid Environment File\n",
    "\n",
    "Simple text file with three characters, 'O', 'H', and 'G'.\n",
    "- 'O': open space\n",
    "- 'H': Wall or obstacles\n",
    "- 'G': Goal location "
   ]
  },
  {
   "cell_type": "code",
   "execution_count": 61,
   "metadata": {},
   "outputs": [
    {
     "name": "stdout",
     "output_type": "stream",
     "text": [
      "OOOHOOOOO\n",
      "OOOHOOHOO\n",
      "OOOOOOHOO\n",
      "OOOOHHHOO\n",
      "OOHOOOOOH\n",
      "OOHOOOGOO\n",
      "OOOOOOOOO\n"
     ]
    }
   ],
   "source": [
    "%%bash \n",
    "cat ../grid.txt"
   ]
  },
  {
   "cell_type": "markdown",
   "metadata": {},
   "source": [
    "### GridWorld Class\n"
   ]
  },
  {
   "cell_type": "code",
   "execution_count": 62,
   "metadata": {},
   "outputs": [],
   "source": [
    "# maze example\n",
    "#This environment is from the course material at: \n",
    "#https://nbviewer.jupyter.org/url/webpages.uncc.edu/mlee173/teach/itcs6010/notebooks/assign/Assign3.ipynb\n",
    "class GridWorld:\n",
    "    \"\"\" Grid World environment\n",
    "            there are four actions (left, right, up, and down) to move an agent\n",
    "            In a grid, if it reaches a goal, it get 30 points of reward.\n",
    "            If it falls in a hole or moves out of the grid world, it gets -5.\n",
    "            Each step costs -1 point. \n",
    "\n",
    "        to test GridWorld, run the following sample codes:\n",
    "\n",
    "            env = GridWorld('grid.txt')\n",
    "\n",
    "            env.print_map()\n",
    "            print [2,3], env.check_state([2,3])\n",
    "            print [0,0], env.check_state([0,0])\n",
    "            print [3,4], env.check_state([3,4])\n",
    "            print [10,3], env.check_state([10,3])\n",
    "\n",
    "            env.init([0,0])\n",
    "            print env.next(1)  # right\n",
    "            print env.next(3)  # down\n",
    "            print env.next(0)  # left\n",
    "            print env.next(2)  # up\n",
    "            print env.next(2)  # up\n",
    "\n",
    "        Parameters\n",
    "        ==========\n",
    "        _map        ndarray\n",
    "                    string array read from a file input\n",
    "        _size       1d array\n",
    "                    the size of _map in ndarray\n",
    "        goal_pos    tuple\n",
    "                    the index for the goal location\n",
    "        _actions    list\n",
    "                    list of actions for 4 actions\n",
    "        _s          1d array\n",
    "                    current state\n",
    "    \"\"\"\n",
    "    def __init__(self, fn):\n",
    "        # read a map from a file\n",
    "        self._map = self.read_map(fn)\n",
    "        self._size = np.asarray(self._map.shape)\n",
    "        self.goal_pos = np.where(self._map == 'G')\n",
    "\n",
    "        # definition of actions (left, right, up, and down repectively)\n",
    "        self._actions = [[0, -1], [0, 1], [-1, 0], [1, 0]]\n",
    "        self._s = None\n",
    "\n",
    "    def get_cur_state(self):\n",
    "        return self._s\n",
    "\n",
    "    def get_size(self):\n",
    "        return self._size\n",
    "\n",
    "    def read_map(self, fn):\n",
    "        grid = []\n",
    "        with open(fn) as f:\n",
    "            for line in f:\n",
    "               grid.append(list(line.strip()))\n",
    "        return np.asarray(grid)\n",
    "\n",
    "    def print_map(self):\n",
    "        print( self._map )\n",
    "\n",
    "    def check_state(self, s):\n",
    "        if isinstance(s, collections.Iterable) and len(s) == 2:\n",
    "            if s[0] < 0 or s[1] < 0 or\\\n",
    "               s[0] >= self._size[0] or s[1] >= self._size[1]:\n",
    "               return 'N'\n",
    "            return self._map[tuple(s)].upper()\n",
    "        else:\n",
    "            return 'F'  # wrong input\n",
    "\n",
    "    def init(self, state=None):\n",
    "        if state is None:\n",
    "            s = [0, 0]\n",
    "        else:\n",
    "            s = state\n",
    "\n",
    "        if self.check_state(s) == 'O':\n",
    "            self._s = np.asarray(state)\n",
    "        else:\n",
    "            raise ValueError(\"Invalid state for init\")\n",
    "\n",
    "    def next(self, a):\n",
    "        s1 = self._s + self._actions[a]\n",
    "        # state transition\n",
    "        curr = self.check_state(s1)\n",
    "        \n",
    "        if curr == 'H' or curr == 'N':\n",
    "            return -5\n",
    "        elif curr == 'F':\n",
    "            warnings.warn(\"invalid state \" + str(s1))\n",
    "            return -5\n",
    "        elif curr == 'G':\n",
    "            self._s = s1\n",
    "            return 30\n",
    "        else:\n",
    "            self._s = s1\n",
    "            return -1\n",
    "        \n",
    "    def is_goal(self):\n",
    "        return self.check_state(self._s) == 'G'\n",
    "            \n",
    "    def get_actions(self):\n",
    "        return self._actions"
   ]
  },
  {
   "cell_type": "code",
   "execution_count": 63,
   "metadata": {},
   "outputs": [],
   "source": [
    "# top-left to (0,0)\n",
    "def coord_convert(s, sz):\n",
    "    return [s[1], sz[0]-s[0]-1]"
   ]
  },
  {
   "cell_type": "code",
   "execution_count": 64,
   "metadata": {},
   "outputs": [],
   "source": [
    "class Policy(torch.nn.Module):\n",
    "    def __init__(self,input_size, hidden_size, output_size):\n",
    "        super(Policy, self).__init__()\n",
    "        #input:state\n",
    "        self.l1 = torch.nn.Linear(input_size, hidden_size)\n",
    "        self.relu = torch.nn.ReLU()\n",
    "        self.l3 = torch.nn.Linear(hidden_size, output_size)\n",
    "        self.out = torch.nn.Softmax(dim=0)\n",
    "        #output: action probabilities\n",
    "        \n",
    "    def forward(self, x):\n",
    "        x = torch.from_numpy(x).float()\n",
    "        x = self.l1(x)\n",
    "        x = self.relu(x)\n",
    "        x = self.l3(x)\n",
    "        x = self.out(x)\n",
    "        return x\n",
    "\n",
    "    def update(self, advantage, action_prob, optimizer):\n",
    "        #policy_net.update(advantage, action_prob)\n",
    "        loss = -(torch.log(action_prob)*advantage).mean()\n",
    "        optimizer.zero_grad()\n",
    "        loss.backward()\n",
    "        optimizer.step()\n",
    "\n",
    "def policy_init(input_size, hidden_size, output_size, lr):\n",
    "    model = Policy(input_size, hidden_size, output_size)\n",
    "    optimizer = torch.optim.Adam(model.parameters(), lr=lr, weight_decay=5e-4)\n",
    "    #optimizer = torch.optim.SGD(model.parameters(), lr=0.01, momentum=0.9)\n",
    "    return model, optimizer"
   ]
  },
  {
   "cell_type": "code",
   "execution_count": 65,
   "metadata": {},
   "outputs": [],
   "source": [
    "class Value(torch.nn.Module):   \n",
    "    def __init__(self,input_size, hidden_size, output_size):\n",
    "        super(Value, self).__init__()\n",
    "        #input:state\n",
    "        self.l1 = torch.nn.Linear(input_size, hidden_size)\n",
    "        self.relu = torch.nn.ReLU()\n",
    "        self.l3 = torch.nn.Linear(hidden_size, output_size)\n",
    "        #output: value\n",
    "        \n",
    "    def forward(self, x):\n",
    "        x = torch.from_numpy(x).float()\n",
    "        x = self.l1(x)\n",
    "        x = self.relu(x)\n",
    "        x = self.l3(x)\n",
    "        return x\n",
    "\n",
    "    def update(self, advantage, optimizer):\n",
    "        #value_net.update(baseline_value, G_t)\n",
    "        loss = advantage.pow(2).mean()\n",
    "        optimizer.zero_grad()\n",
    "        loss.backward(retain_graph=True)\n",
    "        optimizer.step()\n",
    "\n",
    "def value_init(input_size, hidden_size, output_size, lr):\n",
    "    model = Value(input_size, hidden_size, output_size)\n",
    "    optimizer = torch.optim.Adam(model.parameters(), lr=lr, weight_decay=5e-4)\n",
    "    #optimizer = torch.optim.SGD(model.parameters(), lr=0.01, momentum=0.9)\n",
    "    return model, optimizer"
   ]
  },
  {
   "cell_type": "code",
   "execution_count": 76,
   "metadata": {},
   "outputs": [],
   "source": [
    "def policy_gradient(num_episodes=20000, epsilon=1, final_epsilon=0.1, gamma=0.9, lr=0.002, algo='rf'):\n",
    "    terminal_state_indicators = [\"H\",\"N\",\"F\",\"G\"]\n",
    "\n",
    "    policy_net, pol_opt = policy_init(2,20,len(env._actions),lr)\n",
    "    policy_net.train()\n",
    "    value_net, val_opt = value_init(2,20,1,lr)\n",
    "    value_net.train()\n",
    "    \n",
    "    epsilon_decay =  np.exp(np.log(final_epsilon) / num_episodes)\n",
    "\n",
    "    all_Gt = []\n",
    "    all_avg = []\n",
    "    for ep in range(0, num_episodes):\n",
    "        reward_sum = 0\n",
    "        episode = []\n",
    "        #Randon Starts\n",
    "        start_row = random.randint(0,env._size[0])\n",
    "        start_col = random.randint(0,env._size[1])\n",
    "        if(env.check_state([start_row,start_col]) == 'O' and (np.random.rand() < epsilon)):\n",
    "            env.init([start_row,start_col])\n",
    "        else:\n",
    "            env.init([0,0])\n",
    "        done = 0\n",
    "        for steps in range(0,100):\n",
    "            state = env.get_cur_state()\n",
    "            action_probs = policy_net.forward(state)\n",
    "            action = np.random.choice(np.arange(len(action_probs)), p=action_probs.detach().numpy())\n",
    "\n",
    "            reward = env.next(action)\n",
    "            reward_sum += reward\n",
    "            next_state = env._s\n",
    "            curr = env.check_state(next_state)\n",
    "            if(curr in terminal_state_indicators):\n",
    "                done = 1  \n",
    "            #store experience\n",
    "            episode.append((state, action, reward, action_probs[action], next_state))\n",
    "            #if done, break\n",
    "            if done:\n",
    "                break\n",
    "            state = next_state\n",
    "\n",
    "        all_Gt.append(reward_sum)\n",
    "        step_count = 0\n",
    "        advantages = []\n",
    "        picked_actp = []\n",
    "        for traj in episode:\n",
    "            state = traj[0]\n",
    "            action = traj[1]\n",
    "            action_prob = traj[3]\n",
    "            next_state = traj[4]\n",
    "            if(algo=='rf'):\n",
    "                G_t = 0\n",
    "                for i in range(step_count, len(episode)):\n",
    "                    reward = episode[i][2]\n",
    "                    G_t += reward*(gamma**(i-step_count))\n",
    "            elif(algo=='ac'):\n",
    "                reward = traj[2]\n",
    "                G_t = reward + gamma*value_net.forward(next_state).detach()\n",
    "            else:\n",
    "                print(\"Invalid algorithm: Use 'rf' or 'ac'\")\n",
    "            baseline_value = value_net.forward(state)\n",
    "            advantage = G_t - baseline_value\n",
    "            advantages.append(advantage)\n",
    "            picked_actp.append(action_prob)\n",
    "            step_count += 1\n",
    "        value_net.update(torch.stack(advantages), val_opt)\n",
    "        policy_net.update(torch.stack(advantages), torch.stack(picked_actp), pol_opt)\n",
    "        epsilon *= epsilon_decay\n",
    "        avg = mean(all_Gt[max(-50,-len(all_Gt)):])\n",
    "        all_avg.append(avg)\n",
    "        if ep>50 and avg > 20:\n",
    "            print('Converged in episode '+str(ep))\n",
    "            break\n",
    "    return policy_net, all_Gt, all_avg"
   ]
  },
  {
   "cell_type": "code",
   "execution_count": 77,
   "metadata": {},
   "outputs": [],
   "source": [
    "def print_policy(policy):\n",
    "    print_value = np.zeros((env._size[0],env._size[1]))\n",
    "    bad_state_indicators = [\"H\",\"N\",\"F\"]\n",
    "    policy.eval()\n",
    "    for row in range(0,env._size[0]):\n",
    "        for col in range(0,env._size[1]):\n",
    "            state = np.asarray([row,col])\n",
    "\n",
    "            action_probs = policy.forward(state)\n",
    "            action = np.random.choice(np.arange(len(action_probs)), p=action_probs.detach().numpy())\n",
    "            curr = env.check_state(state)\n",
    "            if(curr in bad_state_indicators):\n",
    "                print_value[tuple(state)] = 0\n",
    "            elif(curr in \"G\"):\n",
    "                print_value[tuple(state)] = 9\n",
    "            else:\n",
    "                print_value[tuple(state)] = int(action)+1\n",
    "    print(\"0: Hole    1: Left    2: Right    3: Up    4: Down    9: Goal\")\n",
    "    print(print_value)"
   ]
  },
  {
   "cell_type": "code",
   "execution_count": 78,
   "metadata": {},
   "outputs": [
    {
     "name": "stdout",
     "output_type": "stream",
     "text": [
      "[['O' 'O' 'O' 'H' 'O' 'O' 'O' 'O' 'O']\n",
      " ['O' 'O' 'O' 'H' 'O' 'O' 'H' 'O' 'O']\n",
      " ['O' 'O' 'O' 'O' 'O' 'O' 'H' 'O' 'O']\n",
      " ['O' 'O' 'O' 'O' 'H' 'H' 'H' 'O' 'O']\n",
      " ['O' 'O' 'H' 'O' 'O' 'O' 'O' 'O' 'H']\n",
      " ['O' 'O' 'H' 'O' 'O' 'O' 'G' 'O' 'O']\n",
      " ['O' 'O' 'O' 'O' 'O' 'O' 'O' 'O' 'O']]\n"
     ]
    }
   ],
   "source": [
    "np.set_printoptions(suppress=True)\n",
    "env = GridWorld(\"../grid.txt\")\n",
    "env.print_map()"
   ]
  },
  {
   "cell_type": "code",
   "execution_count": 81,
   "metadata": {},
   "outputs": [
    {
     "name": "stdout",
     "output_type": "stream",
     "text": [
      "Converged in episode 13772\n",
      "0: Hole    1: Left    2: Right    3: Up    4: Down    9: Goal\n",
      "[[4. 4. 4. 0. 4. 4. 4. 4. 4.]\n",
      " [4. 4. 1. 0. 4. 4. 0. 4. 4.]\n",
      " [2. 4. 4. 4. 4. 4. 0. 1. 4.]\n",
      " [2. 2. 4. 4. 0. 0. 0. 1. 4.]\n",
      " [3. 2. 0. 2. 4. 4. 4. 1. 0.]\n",
      " [3. 3. 0. 2. 2. 2. 9. 4. 1.]\n",
      " [3. 3. 2. 2. 2. 2. 2. 2. 3.]]\n",
      "Final Average Reward:   20.02\n"
     ]
    },
    {
     "data": {
      "image/png": "[encoded data removed]",
      "text/plain": [
       "<Figure size 432x288 with 1 Axes>"
      ]
     },
     "metadata": {
      "needs_background": "light"
     },
     "output_type": "display_data"
    }
   ],
   "source": [
    "#******************* REINFORCE with Baseline ********************************\n",
    "policy, all_reward, avg_reward = policy_gradient(num_episodes=20000, epsilon=1,\n",
    "                                        final_epsilon=0.8,gamma=0.99, lr=0.002, algo='rf')\n",
    "print_policy(policy)\n",
    "plt.plot(avg_reward)\n",
    "plt.title('REINFORCE with Baseline', fontsize=24)\n",
    "plt.ylabel('Running Average Reward', fontsize=18)\n",
    "plt.xlabel('Episodes', fontsize=18)\n",
    "print(\"Final Average Reward:   \" + str(avg_reward[-1]))\n",
    "plt.show()"
   ]
  },
  {
   "cell_type": "code",
   "execution_count": 82,
   "metadata": {},
   "outputs": [
    {
     "name": "stdout",
     "output_type": "stream",
     "text": [
      "Converged in episode 17573\n",
      "0: Hole    1: Left    2: Right    3: Up    4: Down    9: Goal\n",
      "[[4. 4. 4. 0. 4. 4. 4. 4. 4.]\n",
      " [4. 4. 4. 0. 4. 4. 0. 4. 4.]\n",
      " [2. 2. 4. 4. 4. 4. 0. 4. 4.]\n",
      " [2. 2. 2. 4. 0. 0. 0. 4. 4.]\n",
      " [2. 2. 0. 2. 2. 4. 4. 4. 0.]\n",
      " [2. 2. 0. 2. 2. 2. 9. 4. 4.]\n",
      " [2. 2. 2. 2. 2. 2. 2. 2. 4.]]\n",
      "Final Average Reward:   20.1\n"
     ]
    },
    {
     "data": {
      "image/png": "[encoded data removed]",
      "text/plain": [
       "<Figure size 432x288 with 1 Axes>"
      ]
     },
     "metadata": {
      "needs_background": "light"
     },
     "output_type": "display_data"
    }
   ],
   "source": [
    "#******************* Actor-Critic ********************************\n",
    "policy, all_reward, avg_reward = policy_gradient(num_episodes=20000, epsilon=0.5,\n",
    "                                        final_epsilon=0.1, gamma=0.99, lr=0.002, algo='ac')\n",
    "print_policy(policy)\n",
    "plt.plot(avg_reward)\n",
    "plt.title('Actor-Critic', fontsize=24)\n",
    "plt.ylabel('Running Average Reward', fontsize=18)\n",
    "plt.xlabel('Episodes', fontsize=18)\n",
    "print(\"Final Average Reward:   \" + str(avg_reward[-1]))\n",
    "plt.show()"
   ]
  },
  {
   "cell_type": "markdown",
   "metadata": {},
   "source": [
    "The generic policy update for REINFORCE with Baseline is shown in the follwing equation:<br><br>\n",
    "$$\\theta_{t+1}= \\theta_t + \\alpha\\left(G_{t}-\\hat{V}\\left(s_{t}\\right)\\right) \\nabla_{\\theta} \\log \\pi_{\\theta}\\left(s_{t}, a_{t}\\right)$$\n",
    "Where $\\alpha$ is the learning rate, and $\\theta$ represents the policy function parameters.\n",
    "\n",
    "Here, we see that REINFORCE with Baseline takes the true return $G_t$, and subtracts the approximated value $\\hat{V}\\left(s_{t}\\right)$ as the baseline. This forms its advantage, which is used to push the gradient with respect to the difference in the true return and approximated state value.<br><br>\n",
    "\n",
    "Basic Actor-Critic is different than REINFORCE with Baseline in its advantage, as shown in the following equation:<br>\n",
    "\n",
    "$$\\theta_{t+1}= \\theta_t + \\alpha\\left(r + \\gamma \\hat{V}\\left(s_{t+1}\\right)-\\hat{V}\\left(s_{t}\\right)\\right) \\nabla_{\\theta} \\log \\pi_{\\theta}\\left(s_{t}, a_{t}\\right)$$\n",
    "\n",
    "Here, we can see that the advantage is calculated with the TD error using the value function approximate for the next state, rather than the full return used by REINFORCE."
   ]
  },
  {
   "cell_type": "code",
   "execution_count": null,
   "metadata": {},
   "outputs": [],
   "source": []
  }
 ],
 "metadata": {
  "kernelspec": {
   "display_name": "Python 3",
   "language": "python",
   "name": "python3"
  },
  "language_info": {
   "codemirror_mode": {
    "name": "ipython",
    "version": 3
   },
   "file_extension": ".py",
   "mimetype": "text/x-python",
   "name": "python",
   "nbconvert_exporter": "python",
   "pygments_lexer": "ipython3",
   "version": "3.6.8"
  }
 },
 "nbformat": 4,
 "nbformat_minor": 2
}
